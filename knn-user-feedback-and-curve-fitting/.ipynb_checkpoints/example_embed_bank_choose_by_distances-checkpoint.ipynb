{
 "cells": [
  {
   "cell_type": "markdown",
   "id": "bfcc2245",
   "metadata": {},
   "source": [
    "Bank of all prompts_responses"
   ]
  },
  {
   "cell_type": "code",
   "execution_count": 60,
   "id": "998d638d",
   "metadata": {
    "ExecuteTime": {
     "end_time": "2022-10-05T17:29:16.961052Z",
     "start_time": "2022-10-05T17:29:16.957643Z"
    }
   },
   "outputs": [],
   "source": [
    "bank = [\n",
    "    \"This is a beautiful day\",\n",
    "    \"Today is Wednesday\",\n",
    "    \"I went to the beach\",\n",
    "    \"The beach is nice\",\n",
    "    \"What am I singing?\",\n",
    "    \"What am I saying?\",\n",
    "    \"Stanford is cool\",\n",
    "    \"Are there lots of people in this class?\",\n",
    "    \"Which courses are the hardest?\",\n",
    "    \"This curriculum is nicely-structured.\",\n",
    "    \"Do you play any sports?\",\n",
    "    \"Sports fans are irritating haha.\",\n",
    "]"
   ]
  },
  {
   "cell_type": "markdown",
   "id": "6b3ba5e4",
   "metadata": {},
   "source": [
    "Embed every instance into a glove embedding space"
   ]
  },
  {
   "cell_type": "code",
   "execution_count": 61,
   "id": "faf84b53",
   "metadata": {
    "ExecuteTime": {
     "end_time": "2022-10-05T17:29:38.307969Z",
     "start_time": "2022-10-05T17:29:17.451906Z"
    }
   },
   "outputs": [
    {
     "name": "stdout",
     "output_type": "stream",
     "text": [
      "(12, 25)\n"
     ]
    }
   ],
   "source": [
    "from zeugma.embeddings import EmbeddingTransformer\n",
    "import numpy as np\n",
    "\n",
    "glove = EmbeddingTransformer('glove')\n",
    "bank_embeds = glove.transform(bank)\n",
    "bank_embeds = bank_embeds / np.linalg.norm(bank_embeds, axis=-1)[:, None]\n",
    "print(bank_embeds.shape)\n"
   ]
  },
  {
   "cell_type": "markdown",
   "id": "e19b4348",
   "metadata": {},
   "source": [
    "Which point has **highest** cosine similarity to \"I went to the beach\"?"
   ]
  },
  {
   "cell_type": "code",
   "execution_count": 62,
   "id": "e6ec0dd1",
   "metadata": {
    "ExecuteTime": {
     "end_time": "2022-10-05T17:29:38.317171Z",
     "start_time": "2022-10-05T17:29:38.311366Z"
    }
   },
   "outputs": [
    {
     "name": "stdout",
     "output_type": "stream",
     "text": [
      "src sentence: I went to the beach\n",
      "(1, 12)\n",
      "dst sentence: The beach is nice\n"
     ]
    }
   ],
   "source": [
    "src_idx = 2\n",
    "print(f\"src sentence: {bank[src_idx]}\")\n",
    "\n",
    "# distances from src pt to all others\n",
    "from sklearn.metrics.pairwise import cosine_similarity\n",
    "sims = cosine_similarity(bank_embeds[src_idx:src_idx+1], Y=bank_embeds, dense_output=True)\n",
    "print(sims.shape)\n",
    "\n",
    "# sort cosine sims, [::-1] for descending order, idx 1 and not 0 to avoid picking self\n",
    "dst_idx = sims[0].argsort()[::-1][1]\n",
    "\n",
    "print(f\"dst sentence: {bank[dst_idx]}\")\n"
   ]
  },
  {
   "cell_type": "markdown",
   "id": "69b97399",
   "metadata": {
    "ExecuteTime": {
     "end_time": "2022-10-05T17:12:58.408501Z",
     "start_time": "2022-10-05T17:12:58.404326Z"
    }
   },
   "source": [
    "Which point has **lowest** cosine similarity to \"I went to the beach\"?"
   ]
  },
  {
   "cell_type": "code",
   "execution_count": 63,
   "id": "984a4043",
   "metadata": {
    "ExecuteTime": {
     "end_time": "2022-10-05T17:29:38.324951Z",
     "start_time": "2022-10-05T17:29:38.320072Z"
    }
   },
   "outputs": [
    {
     "name": "stdout",
     "output_type": "stream",
     "text": [
      "src sentence: I went to the beach\n",
      "(1, 12)\n",
      "dst sentence: This curriculum is nicely-structured.\n"
     ]
    }
   ],
   "source": [
    "src_idx = 2\n",
    "print(f\"src sentence: {bank[src_idx]}\")\n",
    "\n",
    "# distances from src pt to all others\n",
    "from sklearn.metrics.pairwise import cosine_similarity\n",
    "sims = cosine_similarity(bank_embeds[src_idx:src_idx+1], Y=bank_embeds, dense_output=True)\n",
    "print(sims.shape)\n",
    "\n",
    "# sort cosine sims, ascending order, idx 1 and not 0 to avoid picking self\n",
    "dst_idx = sims[0].argsort()[1]\n",
    "\n",
    "print(f\"dst sentence: {bank[dst_idx]}\")\n"
   ]
  },
  {
   "cell_type": "markdown",
   "id": "b29e1773",
   "metadata": {},
   "source": [
    "When suggesting next pts to the user, after k iters, we have k centroids\n",
    "Which pt is the **furthest away from ALL centroids**?"
   ]
  },
  {
   "cell_type": "markdown",
   "id": "f98a3e56",
   "metadata": {},
   "source": [
    "Say pts seen so far are:\n",
    "- \"This is a beautiful day\"\n",
    "- \"I went to the beach\"\n",
    "- \"What am I singing?\"\n",
    "- \"Stanford is cool\"\n",
    "- \"Are there lots of people in this class?\",\n",
    "\n",
    "I would expect the pt away from all of these to talk about a different topic (sports)"
   ]
  },
  {
   "cell_type": "code",
   "execution_count": 64,
   "id": "10717a64",
   "metadata": {
    "ExecuteTime": {
     "end_time": "2022-10-05T17:29:38.333514Z",
     "start_time": "2022-10-05T17:29:38.328238Z"
    }
   },
   "outputs": [
    {
     "name": "stdout",
     "output_type": "stream",
     "text": [
      "src sentences:\n",
      "This is a beautiful day\n",
      "I went to the beach\n",
      "What am I singing?\n",
      "Stanford is cool\n",
      "Are there lots of people in this class?\n",
      "(5, 12)\n",
      "dst sentence: Sports fans are irritating haha.\n"
     ]
    }
   ],
   "source": [
    "src_idxs = [0, 2, 4, 6, 7]\n",
    "print(f\"src sentences:\")\n",
    "for idx in src_idxs:\n",
    "    print(bank[idx])\n",
    "\n",
    "# distances from src pts to all others\n",
    "from sklearn.metrics.pairwise import cosine_similarity\n",
    "sims = cosine_similarity(bank_embeds[src_idxs], Y=bank_embeds, dense_output=True)\n",
    "print(sims.shape)\n",
    "\n",
    "# sum cosine sims vertically (for every dst pt)\n",
    "sims = sims.sum(axis=0)\n",
    "\n",
    "# sort sums sims, ascending order\n",
    "order = sims.argsort()\n",
    "\n",
    "# we do not even have to remove src pts because logically they won't bew the farthest from themselves!\n",
    "# order = [idx for idx in order if not idx in src_idxs]\n",
    "\n",
    "# chosen pt\n",
    "dst_idx = order[0]\n",
    "\n",
    "print(f\"dst sentence: {bank[dst_idx]}\")\n"
   ]
  },
  {
   "cell_type": "markdown",
   "id": "081314e9",
   "metadata": {},
   "source": [
    "### So an example loop that goes for T iters choosing pts that are always unlocking an unexplored region of the embedding space"
   ]
  },
  {
   "cell_type": "code",
   "execution_count": 66,
   "id": "c486ca19",
   "metadata": {
    "ExecuteTime": {
     "end_time": "2022-10-05T17:30:17.737638Z",
     "start_time": "2022-10-05T17:30:17.730717Z"
    }
   },
   "outputs": [
    {
     "name": "stdout",
     "output_type": "stream",
     "text": [
      "we begin by randomly picking: This is a beautiful day\n",
      "new pick: Sports fans are irritating haha.\n",
      "new pick: This curriculum is nicely-structured.\n",
      "new pick: What am I singing?\n",
      "new pick: I went to the beach\n",
      "new pick: What am I saying?\n"
     ]
    }
   ],
   "source": [
    "T = 5\n",
    "\n",
    "# say idx 0 chosen to begin\n",
    "src_idxs = [0]\n",
    "print(f'we begin by randomly picking: {bank[src_idxs[0]]}')\n",
    "\n",
    "for t in range(T):\n",
    "    # distances from src pts to all others\n",
    "    sims = cosine_similarity(bank_embeds[src_idxs], Y=bank_embeds, dense_output=True)\n",
    "\n",
    "    # sum cosine sims vertically (for every dst pt)\n",
    "    sims = sims.sum(axis=0)\n",
    "\n",
    "    # sort sums sims, ascending order\n",
    "    order = sims.argsort()\n",
    "    order = [x for x in order if not x in src_idxs]\n",
    "\n",
    "    # chosen pt\n",
    "    dst_idx = order[0]\n",
    "    print(f\"new pick: {bank[dst_idx]}\")\n",
    "    \n",
    "    # ADD NEW PT TO SET OF ALREADY PICKED IDXS\n",
    "    src_idxs.append(dst_idx)\n"
   ]
  },
  {
   "cell_type": "code",
   "execution_count": null,
   "id": "5c3f3ee8",
   "metadata": {},
   "outputs": [],
   "source": []
  }
 ],
 "metadata": {
  "kernelspec": {
   "display_name": "model_comp",
   "language": "python",
   "name": "model_comp"
  },
  "language_info": {
   "codemirror_mode": {
    "name": "ipython",
    "version": 3
   },
   "file_extension": ".py",
   "mimetype": "text/x-python",
   "name": "python",
   "nbconvert_exporter": "python",
   "pygments_lexer": "ipython3",
   "version": "3.7.0"
  },
  "toc": {
   "base_numbering": 1,
   "nav_menu": {},
   "number_sections": true,
   "sideBar": true,
   "skip_h1_title": false,
   "title_cell": "Table of Contents",
   "title_sidebar": "Contents",
   "toc_cell": false,
   "toc_position": {},
   "toc_section_display": true,
   "toc_window_display": false
  }
 },
 "nbformat": 4,
 "nbformat_minor": 5
}
