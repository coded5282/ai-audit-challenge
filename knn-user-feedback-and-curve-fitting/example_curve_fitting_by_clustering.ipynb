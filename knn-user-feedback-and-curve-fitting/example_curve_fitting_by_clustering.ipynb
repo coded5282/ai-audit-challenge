{
 "cells": [
  {
   "cell_type": "markdown",
   "id": "c5e39089",
   "metadata": {},
   "source": [
    "Large bank of prompts (T of which will carry labels)"
   ]
  },
  {
   "cell_type": "code",
   "execution_count": 3,
   "id": "3b427ba0",
   "metadata": {
    "ExecuteTime": {
     "end_time": "2022-10-07T15:46:20.769897Z",
     "start_time": "2022-10-07T15:46:18.831258Z"
    }
   },
   "outputs": [],
   "source": [
    "import pandas as pd\n",
    "\n",
    "df=pd.read_csv('./Hotel_Reviews.csv', sep=',')"
   ]
  },
  {
   "cell_type": "code",
   "execution_count": 20,
   "id": "2643532f",
   "metadata": {
    "ExecuteTime": {
     "end_time": "2022-10-07T15:52:56.653906Z",
     "start_time": "2022-10-07T15:52:56.393605Z"
    }
   },
   "outputs": [
    {
     "name": "stdout",
     "output_type": "stream",
     "text": [
      "1031476\n",
      "[' I am so angry that i made this post available via all possible sites i use when planing my trips so no one will make the mistake of booking this place I made my booking via booking com We stayed for 6 nights in this hotel from 11 to 17 July Upon arrival we were placed in a small room on the 2nd floor of the hotel It turned out that this was not the room we booked I had specially reserved the 2 level duplex room so that we would have a big windows and high ceilings The room itself was ok if you don t mind the broken window that can not be closed hello rain and a mini fridge that contained some sort of a bio weapon at least i guessed so by the smell of it I intimately asked to change the room and after explaining 2 times that i booked a duplex btw it costs the same as a simple double but got way more volume due to the high ceiling was offered a room but only the next day SO i had to check out the next day before 11 o clock in order to get the room i waned to Not the best way to begin your holiday So we had to wait till 13 00 in order to check in my new room what a wonderful waist of my time The room 023 i got was just as i wanted to peaceful internal garden view big window We were tired from waiting the room so we placed our belongings and rushed to the city In the evening it turned out that there was a constant noise in the room i guess it was made by vibrating vent tubes or something it was constant and annoying as hell AND it did not stop even at 2 am making it hard to fall asleep for me and my wife I have an audio recording that i can not attach here but if you want i can send it via e mail The next day the technician came but was not able to determine the cause of the disturbing sound so i was offered to change the room once again the hotel was fully booked and they had only 1 room left the one that was smaller but seems newer ', 'No Negative']\n"
     ]
    }
   ],
   "source": [
    "bank = list(df['Negative_Review']) + list(df['Positive_Review'])\n",
    "print(len(bank))\n",
    "print(bank[:2])\n",
    "\n",
    "# keep only 1000 for proof of concept\n",
    "import numpy as np\n",
    "np.random.shuffle(bank)\n",
    "bank = bank[:1000]\n",
    "\n",
    "# randomly choose T (10) of them and assign labels\n",
    "T = 10\n",
    "idx2label = {} \n",
    "for i in range(T):\n",
    "    index = np.random.choice(len(bank))\n",
    "    idx2label[index] = 0 if np.random.uniform() < 0.4 else 1"
   ]
  },
  {
   "cell_type": "code",
   "execution_count": 21,
   "id": "7a89880b",
   "metadata": {
    "ExecuteTime": {
     "end_time": "2022-10-07T15:52:57.118031Z",
     "start_time": "2022-10-07T15:52:57.113788Z"
    }
   },
   "outputs": [
    {
     "data": {
      "text/plain": [
       "{863: 1,\n",
       " 993: 0,\n",
       " 865: 0,\n",
       " 315: 1,\n",
       " 259: 0,\n",
       " 245: 1,\n",
       " 685: 1,\n",
       " 132: 1,\n",
       " 165: 1,\n",
       " 896: 0}"
      ]
     },
     "execution_count": 21,
     "metadata": {},
     "output_type": "execute_result"
    }
   ],
   "source": [
    "idx2label"
   ]
  },
  {
   "cell_type": "markdown",
   "id": "00ac1f2e",
   "metadata": {},
   "source": [
    "Embed every instance into a glove embedding space"
   ]
  },
  {
   "cell_type": "code",
   "execution_count": 25,
   "id": "47f7e145",
   "metadata": {
    "ExecuteTime": {
     "end_time": "2022-10-07T15:59:15.671707Z",
     "start_time": "2022-10-07T15:58:54.850517Z"
    }
   },
   "outputs": [
    {
     "name": "stdout",
     "output_type": "stream",
     "text": [
      "(1000, 25)\n"
     ]
    },
    {
     "name": "stderr",
     "output_type": "stream",
     "text": [
      "/opt/anaconda3/envs/model_comp/lib/python3.7/site-packages/ipykernel_launcher.py:6: RuntimeWarning: invalid value encountered in true_divide\n",
      "  \n"
     ]
    }
   ],
   "source": [
    "from zeugma.embeddings import EmbeddingTransformer\n",
    "import numpy as np\n",
    "\n",
    "glove = EmbeddingTransformer('glove')\n",
    "bank_embeds = glove.transform(bank)\n",
    "bank_embeds = bank_embeds / np.linalg.norm(bank_embeds, axis=-1)[:, None]\n",
    "bank_embeds[np.isnan(bank_embeds)] = 0\n",
    "print(bank_embeds.shape)\n"
   ]
  },
  {
   "cell_type": "markdown",
   "id": "21bd1e8d",
   "metadata": {},
   "source": [
    "Given any embedding, fetch its neighborhood (cosine sim thresholding)"
   ]
  },
  {
   "cell_type": "code",
   "execution_count": 61,
   "id": "80b479e4",
   "metadata": {
    "ExecuteTime": {
     "end_time": "2022-10-07T16:50:04.977810Z",
     "start_time": "2022-10-07T16:50:04.969505Z"
    }
   },
   "outputs": [
    {
     "name": "stdout",
     "output_type": "stream",
     "text": [
      "src sentence:  same menu of breakfast buffet\n",
      "top dst sentences: [' Friendly staff and lovely breakfast ', ' Price of food and drink ', ' Very nice staff blinds on the windows nice breakfast with good coffee Italian perrfect locarion for weekend ', ' The breakfast buffet was very good ', ' The hotels restaurant for the evening meal', ' No kettle for coffee or tea in room ', ' Cost of breakfast', ' Breakfast is poor Cold coffee stale croissants Not to mention the hot buffet ', ' Champagne for breakfast ', ' Great location good breakfast nice roof bar ']\n"
     ]
    },
    {
     "data": {
      "text/plain": [
       "[42, 78, 89, 126, 197, 332, 410, 542, 578, 609]"
      ]
     },
     "execution_count": 61,
     "metadata": {},
     "output_type": "execute_result"
    }
   ],
   "source": [
    "def fetch_neighborhood(all_embeds, src_idx, min_cos_sim, verbose=False):\n",
    "    if verbose: print(f\"src sentence: {bank[src_idx]}\")\n",
    "\n",
    "    from sklearn.metrics.pairwise import cosine_similarity\n",
    "    sims = cosine_similarity(all_embeds[src_idx:src_idx+1], Y=all_embeds, dense_output=True)[0]\n",
    "\n",
    "    mask = sims >= min_cos_sim\n",
    "    neighborhood_idxs = np.argwhere(mask)[:,0]\n",
    "    neighborhood_idxs = [idx for idx in neighborhood_idxs if idx != src_idx]\n",
    "    if verbose: print(f\"top dst sentences: {[bank[idx] for idx in neighborhood_idxs]}\")\n",
    "    return neighborhood_idxs\n",
    "\n",
    "fetch_neighborhood(all_embeds=bank_embeds, src_idx=10, min_cos_sim=0.95, verbose=True)"
   ]
  },
  {
   "cell_type": "markdown",
   "id": "daeca691",
   "metadata": {
    "ExecuteTime": {
     "end_time": "2022-10-07T16:06:27.559304Z",
     "start_time": "2022-10-07T16:06:27.554482Z"
    }
   },
   "source": [
    "If we want to curve-fit around label=1, we combine all 1-neighborhoods and exclude points overlapping with 0-neighborhoods (or vice versa)"
   ]
  },
  {
   "cell_type": "code",
   "execution_count": 62,
   "id": "1d9b703f",
   "metadata": {
    "ExecuteTime": {
     "end_time": "2022-10-07T16:50:05.626107Z",
     "start_time": "2022-10-07T16:50:05.620898Z"
    }
   },
   "outputs": [],
   "source": [
    "def curve_fit(all_embeds, idx2label, label_of_interest, min_cos_sim):\n",
    "    idxs_interest = [idx for idx in idx2label if idx2label[idx]==label_of_interest]\n",
    "    \n",
    "    composite_label = 1-label_of_interest\n",
    "    idxs_composite = [idx for idx in idx2label if idx2label[idx]==composite_label]\n",
    "    \n",
    "    print(f'got {len(idxs_interest)} examples with labels={label_of_interest} and {len(idxs_composite)} examples with label={composite_label}')\n",
    "    \n",
    "    interest_nbrhds = [fetch_neighborhood(all_embeds, idx, min_cos_sim) for idx in idxs_interest]\n",
    "    composite_nbrhds = [fetch_neighborhood(all_embeds, idx, min_cos_sim) for idx in idxs_composite]\n",
    "    \n",
    "    all_composite_idxs = list(set([x for lst in composite_nbrhds for x in lst]))\n",
    "    \n",
    "    # return idxs of interest still grouped by cluster\n",
    "    return [[idx for idx in lst if not idx in all_composite_idxs] for lst in interest_nbrhds]\n",
    "    \n",
    "    "
   ]
  },
  {
   "cell_type": "code",
   "execution_count": 65,
   "id": "43d22d1e",
   "metadata": {
    "ExecuteTime": {
     "end_time": "2022-10-07T16:50:34.315228Z",
     "start_time": "2022-10-07T16:50:34.287352Z"
    }
   },
   "outputs": [
    {
     "name": "stdout",
     "output_type": "stream",
     "text": [
      "got 6 examples with labels=1 and 4 examples with label=0\n"
     ]
    },
    {
     "data": {
      "text/plain": [
       "[[11,\n",
       "  142,\n",
       "  197,\n",
       "  209,\n",
       "  240,\n",
       "  476,\n",
       "  602,\n",
       "  626,\n",
       "  672,\n",
       "  778,\n",
       "  792,\n",
       "  894,\n",
       "  906,\n",
       "  957,\n",
       "  967,\n",
       "  969],\n",
       " [11,\n",
       "  142,\n",
       "  154,\n",
       "  197,\n",
       "  201,\n",
       "  209,\n",
       "  240,\n",
       "  458,\n",
       "  476,\n",
       "  563,\n",
       "  602,\n",
       "  626,\n",
       "  672,\n",
       "  778,\n",
       "  792,\n",
       "  894,\n",
       "  906,\n",
       "  967,\n",
       "  969],\n",
       " [32, 75, 149, 456, 527, 560, 630, 648, 787, 801, 906, 949, 957],\n",
       " [],\n",
       " [134, 209, 240, 476, 602, 626, 778, 894, 967],\n",
       " []]"
      ]
     },
     "execution_count": 65,
     "metadata": {},
     "output_type": "execute_result"
    }
   ],
   "source": [
    "curve_fit(all_embeds=bank_embeds, idx2label=idx2label, label_of_interest=1, min_cos_sim=0.92)"
   ]
  }
 ],
 "metadata": {
  "kernelspec": {
   "display_name": "model_comp",
   "language": "python",
   "name": "model_comp"
  },
  "language_info": {
   "codemirror_mode": {
    "name": "ipython",
    "version": 3
   },
   "file_extension": ".py",
   "mimetype": "text/x-python",
   "name": "python",
   "nbconvert_exporter": "python",
   "pygments_lexer": "ipython3",
   "version": "3.7.0"
  },
  "toc": {
   "base_numbering": 1,
   "nav_menu": {},
   "number_sections": true,
   "sideBar": true,
   "skip_h1_title": false,
   "title_cell": "Table of Contents",
   "title_sidebar": "Contents",
   "toc_cell": false,
   "toc_position": {},
   "toc_section_display": true,
   "toc_window_display": false
  }
 },
 "nbformat": 4,
 "nbformat_minor": 5
}
