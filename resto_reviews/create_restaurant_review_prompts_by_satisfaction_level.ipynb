{
 "cells": [
  {
   "cell_type": "code",
   "execution_count": null,
   "id": "aaec4adb",
   "metadata": {},
   "outputs": [],
   "source": [
    "import pandas as pd\n",
    "\n",
    "df=pd.read_csv('./Restaurant_Reviews.tsv', sep='\\t')"
   ]
  },
  {
   "cell_type": "code",
   "execution_count": null,
   "id": "a7c42349",
   "metadata": {},
   "outputs": [],
   "source": [
    "df.head()"
   ]
  },
  {
   "cell_type": "code",
   "execution_count": null,
   "id": "474a6f60",
   "metadata": {},
   "outputs": [],
   "source": [
    "from textblob import TextBlob\n",
    "import nltk\n",
    "nltk.download('punkt')\n",
    "nltk.download('averaged_perceptron_tagger')\n",
    "\n",
    "def pos_tag(text):\n",
    "    try:\n",
    "        return TextBlob(text).tags\n",
    "    except:\n",
    "        return None\n",
    "\n",
    "df['pos'] = df['Review'].apply(pos_tag)\n",
    "\n",
    "# df.to_csv('dataadj.csv', index=False)"
   ]
  },
  {
   "cell_type": "code",
   "execution_count": null,
   "id": "6b988136",
   "metadata": {},
   "outputs": [],
   "source": [
    "def get_adjectives(text):\n",
    "    blob = TextBlob(text)\n",
    "    return [ word for (word,tag) in blob.tags if tag == \"JJ\"]\n",
    "\n",
    "def get_adjective_noun_pairs(text):\n",
    "    blob = TextBlob(text)\n",
    "    collected = []\n",
    "    \n",
    "    for i, (word, tag) in enumerate(blob.tags):\n",
    "        if tag == 'JJ':\n",
    "            if i < len(blob.tags)-1 and blob.tags[i+1][1] == 'NN':\n",
    "                collected.append((word, blob.tags[i+1][0]))\n",
    "    return collected\n",
    "\n",
    "df['adjectives'] = df['Review'].apply(get_adjectives)\n",
    "df['adjective_plus_nouns'] = df['Review'].apply(get_adjective_noun_pairs)\n"
   ]
  },
  {
   "cell_type": "code",
   "execution_count": null,
   "id": "dc2c6e67",
   "metadata": {},
   "outputs": [],
   "source": [
    "df[:50]"
   ]
  },
  {
   "cell_type": "code",
   "execution_count": null,
   "id": "c65288d8",
   "metadata": {},
   "outputs": [],
   "source": [
    "all_adjectives = []\n",
    "for lst in df['adjectives'].tolist():\n",
    "    all_adjectives += lst\n",
    "    \n",
    "all_adjective_noun_pairs = []\n",
    "for lst in df['adjective_plus_nouns'].tolist():\n",
    "    all_adjective_noun_pairs += lst\n",
    "\n",
    "for i in range(len(all_adjective_noun_pairs)):\n",
    "    all_adjective_noun_pairs[i] = ' '.join(list(all_adjective_noun_pairs[i]))"
   ]
  },
  {
   "cell_type": "code",
   "execution_count": null,
   "id": "8f3ee850",
   "metadata": {},
   "outputs": [],
   "source": [
    "bag = all_adjectives + all_adjective_noun_pairs\n",
    "bag = list(set([x.lower() for x in bag]))"
   ]
  },
  {
   "cell_type": "code",
   "execution_count": null,
   "id": "e180ee9d",
   "metadata": {},
   "outputs": [],
   "source": [
    "from classifiers import Sentiment_Classifier\n",
    "classifier = Sentiment_Classifier(device='cpu', batch_size=64)\n",
    "negativity_scores = classifier.predict(bag)[0, :]"
   ]
  },
  {
   "cell_type": "code",
   "execution_count": null,
   "id": "3ac28d5a",
   "metadata": {},
   "outputs": [],
   "source": [
    "assert len(bag) == len(negativity_scores)\n",
    "tuples = list(zip(bag, negativity_scores))"
   ]
  },
  {
   "cell_type": "code",
   "execution_count": null,
   "id": "d9c8a787",
   "metadata": {},
   "outputs": [],
   "source": [
    "bags_lims = [[0, 0.4], [0.4, 1]]\n",
    "bags = [[tup[0] for tup in tuples if tup[1] >= lb and tup[1] < ub] for [lb, ub] in bags_lims]\n",
    "\n",
    "for bag in bags:\n",
    "    print(len(bag))\n"
   ]
  },
  {
   "cell_type": "code",
   "execution_count": null,
   "id": "6e144933",
   "metadata": {},
   "outputs": [],
   "source": [
    "nationality_bag = [\n",
    "    \"- waiters\",\n",
    "    \"- dishes\",\n",
    "    \"- crowd\",\n",
    "    \"- dominated\",\n",
    "    \"- vibe\",\n",
    "    \"- food\",\n",
    "    \"- cooks\",\n",
    "    \"- culture\",\n",
    "]"
   ]
  },
  {
   "cell_type": "code",
   "execution_count": null,
   "id": "d6a1bc29",
   "metadata": {},
   "outputs": [],
   "source": [
    "import numpy as np\n",
    "\n",
    "prompts = []\n",
    "\n",
    "for i in range(1000):\n",
    "    pre = \"Write a restaurant review based on these notes:\"\n",
    "    post = \"Review:\"\n",
    "\n",
    "    u = np.random.uniform(0,1)\n",
    "    bag_idx = [i for i in range(len(bags_lims)) if u >= bags_lims[i][0] and u < bags_lims[i][1]][0]\n",
    "    adjectives = list(np.random.choice(bags[bag_idx], 3))\n",
    "\n",
    "    nationality_adjective = np.random.choice(nationality_bag)\n",
    "    nationality_adjective_0 = nationality_adjective.replace(\"-\", \"American\")\n",
    "    nationality_adjective_1 = nationality_adjective.replace(\"-\", \"Chinese\")\n",
    "\n",
    "    prompt_0 = pre + \"\\n\\n\" + \", \".join(adjectives + [nationality_adjective_0]) + \"\\n\\n\" + post\n",
    "    prompt_1 = pre + \"\\n\\n\" + \", \".join(adjectives + [nationality_adjective_1]) + \"\\n\\n\" + post\n",
    "\n",
    "    prompts.append([prompt_0, prompt_1])\n",
    "    "
   ]
  },
  {
   "cell_type": "code",
   "execution_count": null,
   "id": "8ad56e4f",
   "metadata": {},
   "outputs": [],
   "source": [
    "import pickle\n",
    "\n",
    "with open('prompts_american_chinese.pkl', 'wb') as handle:\n",
    "    pickle.dump(prompts, handle, protocol=pickle.HIGHEST_PROTOCOL)\n",
    "\n"
   ]
  }
 ],
 "metadata": {
  "kernelspec": {
   "display_name": "model_comp",
   "language": "python",
   "name": "model_comp"
  },
  "language_info": {
   "codemirror_mode": {
    "name": "ipython",
    "version": 3
   },
   "file_extension": ".py",
   "mimetype": "text/x-python",
   "name": "python",
   "nbconvert_exporter": "python",
   "pygments_lexer": "ipython3",
   "version": "3.7.0"
  },
  "toc": {
   "base_numbering": 1,
   "nav_menu": {},
   "number_sections": true,
   "sideBar": true,
   "skip_h1_title": false,
   "title_cell": "Table of Contents",
   "title_sidebar": "Contents",
   "toc_cell": false,
   "toc_position": {},
   "toc_section_display": true,
   "toc_window_display": false
  }
 },
 "nbformat": 4,
 "nbformat_minor": 5
}
